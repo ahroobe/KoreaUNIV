{
 "cells": [
  {
   "cell_type": "code",
   "execution_count": 1,
   "metadata": {
    "collapsed": false
   },
   "outputs": [],
   "source": [
    "from wit import Wit\n",
    "import requests\n",
    "from pattern import web"
   ]
  },
  {
   "cell_type": "code",
   "execution_count": null,
   "metadata": {
    "collapsed": false
   },
   "outputs": [
    {
     "name": "stdout",
     "output_type": "stream",
     "text": [
      "> Do you know FWMaple?\n",
      "2016-05-24 17:14:49,284 - wit.wit - INFO - Executing merge\n",
      "2016-05-24 17:14:50,534 - wit.wit - INFO - Executing say with: what do you want to know about 'FWMaple'?\n"
     ]
    }
   ],
   "source": [
    "def get_detaill_page(user_id):\n",
    "    user_id = user_id.replace(\" \", \"+\")\n",
    "    # your code here (remove 'pass')\n",
    "    url = 'http://www.op.gg/summoner/userName=' + (user_id) + '/'\n",
    "    r = requests.get(url)\n",
    "    final = r.text\n",
    "    return final\n",
    "\n",
    "def first_entity_value(entities, entity):\n",
    "    if entity not in entities:\n",
    "        return None\n",
    "    val = entities[entity][0]['value']\n",
    "    if not val:\n",
    "        return None\n",
    "    return val['value'] if isinstance(val, dict) else val\n",
    "\n",
    "\n",
    "def say(session_id, context, msg):\n",
    "    print(msg)\n",
    "\n",
    "def merge(session_id, context, entities, msg):\n",
    "    name = first_entity_value(entities, 'contact')\n",
    "    if name:\n",
    "        context['name'] = name\n",
    "    cat = first_entity_value(entities, 'category')\n",
    "    if cat:\n",
    "        context['cat'] = cat\n",
    "    value = first_entity_value(entities, 'value')\n",
    "    if value:\n",
    "        context\n",
    "    return context\n",
    "\n",
    "def error(session_id, context, e):\n",
    "    print(str(e))\n",
    "\n",
    "def find_inform(session_id, context):\n",
    "    name = context['name']\n",
    "    cate = context['cat']\n",
    "    result =\"\"\n",
    "    \n",
    "    html = get_detaill_page(name)\n",
    "    element= web.Element(html)\n",
    "    ele = element('div.SummonerNotFoundLayout')\n",
    "    if (ele):\n",
    "        result = \"not exist user.\"\n",
    "        context['value'] = result\n",
    "        return context\n",
    "    if (cate == \"KDA\"):\n",
    "        ele = element('div.KDA div.KDA span')\n",
    "        if(ele):\n",
    "            result = result + ele[0].content + \"/\" + ele[1].content+ \"/\" + ele[2].content\n",
    "        else:\n",
    "            result = \"impossible to get data.\"\n",
    "    elif (cate == \"Winning_rate\"):\n",
    "        ele = element('div.WinRatioText')\n",
    "        if(ele):\n",
    "            result = result + ele[0].content\n",
    "        else:\n",
    "            result = \"impossible to get data.\"\n",
    "    elif (cate == \"most_champion\"):\n",
    "        ele = element('div.MostChampionContent div.Face')\n",
    "        if(ele):\n",
    "            result = ele[0].attr['title']\n",
    "        else:\n",
    "            result = \"impossible, because he/she didn't play rank games.\"\n",
    "    else:\n",
    "        result = \"impossible to get data.\"\n",
    "    \n",
    "    context['value']=result\n",
    "    return context\n",
    "\n",
    "def clear_context(session_id, context):\n",
    "    context = None\n",
    "    return context\n",
    "\n",
    "actions = {\n",
    "    'say': say,\n",
    "    'merge': merge,\n",
    "    'error': error,\n",
    "    'find_inform' : find_inform,\n",
    "    'clear_context' : clear_context,\n",
    "}\n",
    "\n",
    "access_token= 'EMGADJYA6RQG6V6JPEE2KENG7KTFLXNP'\n",
    "client = Wit(access_token, actions)\n",
    "client.interactive()\n"
   ]
  },
  {
   "cell_type": "code",
   "execution_count": null,
   "metadata": {
    "collapsed": false
   },
   "outputs": [],
   "source": []
  }
 ],
 "metadata": {
  "kernelspec": {
   "display_name": "Python 2",
   "language": "python",
   "name": "python2"
  },
  "language_info": {
   "codemirror_mode": {
    "name": "ipython",
    "version": 2
   },
   "file_extension": ".py",
   "mimetype": "text/x-python",
   "name": "python",
   "nbconvert_exporter": "python",
   "pygments_lexer": "ipython2",
   "version": "2.7.11"
  }
 },
 "nbformat": 4,
 "nbformat_minor": 0
}
