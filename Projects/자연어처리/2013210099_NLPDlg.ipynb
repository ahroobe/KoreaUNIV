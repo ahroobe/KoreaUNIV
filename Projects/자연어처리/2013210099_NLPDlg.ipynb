{
 "cells": [
  {
   "cell_type": "code",
   "execution_count": 10,
   "metadata": {
    "collapsed": false
   },
   "outputs": [],
   "source": [
    "import pandas as pd\n",
    "import re\n",
    "import time\n",
    "\n",
    "def read_csv(path):\n",
    "    \n",
    "    df=pd.read_csv(path, sep=',',header=None)\n",
    "    return df\n",
    "\n",
    "def get_question():\n",
    "    var = raw_input(\"HUMAN: \")\n",
    "    return var\n",
    "\n",
    "def parsing_pitfalls(sentence,df):\n",
    "    \n",
    "    month = None\n",
    "    location = None\n",
    "    li = sentence.replace('에',' ').split()\n",
    "    for word in li:\n",
    "        k = unicode(word,'utf-8')\n",
    "        if(k[1] == unicode(\"월\",'utf-8')):\n",
    "            month = month_slot(word)\n",
    "        #elif(unicode(word,'utf-8')== unicode(\"지금\",'utf-8')):\n",
    "        elif(word == \"지금\"):\n",
    "            month = month_slot(word)\n",
    "    li = sentence.replace('는',' ').replace('은',' ').replace('의',' ').replace('에',' ').split()\n",
    "    location = location_slot(unicode(li[0],'utf-8'),df)\n",
    "    if(location or location ==0):\n",
    "        if(month):\n",
    "            temper = find_inform(month,location,df)\n",
    "        else:\n",
    "            month = ask_again(1,df)#ask month again\n",
    "            temper = find_inform(month,location,df)\n",
    "    else:\n",
    "        if(month):\n",
    "            print (\"System: 어디 말씀입니까?\")\n",
    "            location = ask_again(2,df)#ask location again\n",
    "            temper = find_inform(month,location,df)\n",
    "        else:\n",
    "            print (\"System: 어디 말씀입니까?\")\n",
    "            location = ask_again(2,df)\n",
    "            month = ask_again(1,df)\n",
    "            temper = find_inform(month,location,df)\n",
    "    print \"System: \"+`month`+\"월의 평균 기온은 \"+`temper`+\"도 입니다.\"\n",
    "    \n",
    "def month_slot(candidate):\n",
    "    if(candidate == \"지금\"):\n",
    "        return int(time.strftime(\"%m\"))\n",
    "    else:\n",
    "        return int(candidate)\n",
    "\n",
    "def location_slot(candidate,df):\n",
    "    for i in range(0,len(df)):\n",
    "        if(candidate == unicode(df[0][i],'utf-8')):\n",
    "            return i\n",
    "    return None\n",
    "\n",
    "def ask_again(case,df):\n",
    "    \"\"\"\n",
    "    1-> month\n",
    "    2-> location\n",
    "    \"\"\"\n",
    "    if case == 1:\n",
    "        print (\"System: 언제 말씀입니까?\")\n",
    "        sentence = get_question()\n",
    "        return month_slot(sentence.split('월')[0])\n",
    "    elif case == 2:\n",
    "        sentence = get_question()\n",
    "        sentence = unicode(sentence,'utf-8')\n",
    "        k = location_slot(sentence[:-2],df)\n",
    "        if (k) or (k == 0):\n",
    "            return k\n",
    "        else:\n",
    "            k = location_slot(sentence[:-3],df)\n",
    "        if(not k and k != 0):\n",
    "            print \"System: 저는\",sentence[:-2],\"혹은\",sentence[:-3], \"의 평균 기온을 모릅니다. 다른 도시에 대해서 물어보세요.\"\n",
    "            return ask_again(2,df)\n",
    "        else:\n",
    "            return k\n",
    "        \n",
    "def find_inform(month,location,df):\n",
    "    return df[month][location]\n",
    "\n",
    "##main function!!\n",
    "def dialog_system(path):\n",
    "    sentence = get_question()\n",
    "    df = read_csv(path)\n",
    "    parsing_pitfalls(sentence,df)\n"
   ]
  },
  {
   "cell_type": "code",
   "execution_count": 11,
   "metadata": {
    "collapsed": false
   },
   "outputs": [
    {
     "name": "stdout",
     "output_type": "stream",
     "text": [
      "HUMAN: 평균 기온은 어떤가요?\n",
      "System: 어디 말씀입니까?\n",
      "HUMAN: 부산이요.\n",
      "System: 저는 부산이 혹은 부산 의 평균 기온을 모릅니다. 다른 도시에 대해서 물어보세요.\n",
      "HUMAN: 모스크바요.\n",
      "System: 언제 말씀입니까?\n",
      "HUMAN: 5월이요.\n",
      "System: 5월의 평균 기온은 14.6도 입니다.\n"
     ]
    }
   ],
   "source": [
    "dialog_system('mean_temperature.csv')"
   ]
  },
  {
   "cell_type": "code",
   "execution_count": null,
   "metadata": {
    "collapsed": true
   },
   "outputs": [],
   "source": []
  },
  {
   "cell_type": "code",
   "execution_count": 206,
   "metadata": {
    "collapsed": false
   },
   "outputs": [
    {
     "name": "stdout",
     "output_type": "stream",
     "text": [
      "'\\xec\\x95\\x88\\xeb\\x85\\x95'의\n",
      "u'\\uc548\\ub155'\n"
     ]
    }
   ],
   "source": [
    "string = \"안녕\"\n",
    "print `string`+\"의\"\n",
    "print `unicode(string,'utf-8')`"
   ]
  },
  {
   "cell_type": "code",
   "execution_count": 210,
   "metadata": {
    "collapsed": false
   },
   "outputs": [
    {
     "name": "stdout",
     "output_type": "stream",
     "text": [
      "HUMAN: 모스크바\n",
      "True\n"
     ]
    }
   ],
   "source": [
    "string = get_question()\n",
    "print \"모스크바\" == string"
   ]
  },
  {
   "cell_type": "code",
   "execution_count": null,
   "metadata": {
    "collapsed": true
   },
   "outputs": [],
   "source": []
  }
 ],
 "metadata": {
  "kernelspec": {
   "display_name": "Python 2",
   "language": "python",
   "name": "python2"
  },
  "language_info": {
   "codemirror_mode": {
    "name": "ipython",
    "version": 2
   },
   "file_extension": ".py",
   "mimetype": "text/x-python",
   "name": "python",
   "nbconvert_exporter": "python",
   "pygments_lexer": "ipython2",
   "version": "2.7.11"
  }
 },
 "nbformat": 4,
 "nbformat_minor": 0
}
