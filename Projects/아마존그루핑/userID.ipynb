{
 "cells": [
  {
   "cell_type": "code",
   "execution_count": 4,
   "metadata": {
    "collapsed": false
   },
   "outputs": [
    {
     "name": "stdout",
     "output_type": "stream",
     "text": [
      "4116819\n",
      "3889487\n"
     ]
    }
   ],
   "source": [
    "import pandas as pd\n",
    "import json\n",
    "userid_list = [[],[],[]]\n",
    "\n",
    "with open('cell_userid.json') as data_file:    \n",
    "    userid_list[0] = json.load(data_file)\n",
    "\n",
    "with open('baby_userid.json') as data_file:\n",
    "    userid_list[1] = json.load(data_file)\n",
    "    \n",
    "with open('apps_userid.json') as data_file:\n",
    "    userid_list[2] = json.load(data_file)\n",
    "    \n",
    "def remove_duplicates(values):\n",
    "    output = []\n",
    "    seen = set()\n",
    "    for value in values:\n",
    "        if value not in seen:\n",
    "            output.append(value)\n",
    "            seen.add(value)\n",
    "    return output\n",
    "l = []\n",
    "for i in range(0, 3):\n",
    "    for j in userid_list[i]:\n",
    "        l.append(j)\n",
    "        \n",
    "l = remove_duplicates(l)\n",
    "print len(userid_list[0]) + len(userid_list[1]) + len(userid_list[2])\n",
    "print len(l)\n"
   ]
  },
  {
   "cell_type": "code",
   "execution_count": 17,
   "metadata": {
    "collapsed": false
   },
   "outputs": [
    {
     "name": "stdout",
     "output_type": "stream",
     "text": [
      "['ratings_Amazon_Instant_Video.csv', 'ratings_Apps_for_Android.csv', 'ratings_Automotive.csv', 'ratings_Baby.csv', 'ratings_Beauty.csv', 'ratings_Books.csv', 'ratings_CDs_and_Vinyl.csv', 'ratings_Cell_Phones_and_Accessories.csv', 'ratings_Clothing_Shoes_and_Jewelry.csv', 'ratings_Digital_Music.csv', 'ratings_Electronics.csv', 'ratings_Grocery_and_Gourmet_Food.csv', 'ratings_Health_and_Personal_Care.csv', 'ratings_Home_and_Kitchen.csv', 'ratings_Kindle_Store.csv', 'ratings_Movies_and_TV.csv', 'ratings_Musical_Instruments.csv', 'ratings_Office_Products.csv', 'ratings_Patio_Lawn_and_Garden.csv', 'ratings_Pet_Supplies.csv', 'ratings_Sports_and_Outdoors.csv', 'ratings_Tools_and_Home_Improvement.csv', 'ratings_Toys_and_Games.csv', 'ratings_Video_Games.csv']\n",
      "        A1EE2E3N7PW666  B000GFDAUG  5.0  1202256000\n",
      "0        AGZ8SM1BGK3CK  B000GFDAUG  5.0  1198195200\n",
      "1       A2VHZ21245KBT7  B000GIOPK2  4.0  1215388800\n",
      "2        ACX8YW2D5EGP6  B000GIOPK2  4.0  1185840000\n",
      "3        A9RNMO9MUSMTJ  B000GIOPK2  2.0  1281052800\n",
      "4       A3STFVPM8NHJ7B  B000GIOPK2  5.0  1203897600\n",
      "5       A2582KMXLK2P06  B000GIOPK2  5.0  1205884800\n",
      "6       A1TZCLCW9QGGBH  B000GIOPK2  4.0  1209427200\n",
      "7       A2E2I6B878CRMA  B000GIOPK2  5.0  1378684800\n",
      "8        AD5MZA8SOVMPJ  B000GIOPK2  5.0  1218240000\n",
      "9       A3IE1M3QVUKIJN  B000GIOPK2  5.0  1251763200\n",
      "10       AZ1MUCW76BDL1  B000GIOPK2  5.0  1361145600\n",
      "11      A2XNOB1T796Y6B  B000GIOPK2  5.0  1233532800\n",
      "12      A12DO7F3TT123V  B000GIOPK2  2.0  1189987200\n",
      "13      A2UN6AL460C8J4  B000GIOPK2  1.0  1391299200\n",
      "14       AVYBQU4XX5QR4  B000GIOPK2  4.0  1363046400\n",
      "15       AVE3EF44DFS0C  B000GIOPK2  5.0  1190937600\n",
      "16      A27AWN5G5GT6RP  B000GIOPK2  5.0  1328745600\n",
      "17      A35KJPLBWHF5GJ  B000GIOPK2  5.0  1257033600\n",
      "18       ADP0IVFAH8EJF  B000GIOPK2  5.0  1357948800\n",
      "19      A2MBHFCT26IYQ6  B000GIOPK2  5.0  1235433600\n",
      "20       AONBKXBKBR8BO  B000GIOPK2  5.0  1379894400\n",
      "21      A2K72PJNBUP2TI  B000GIOPK2  5.0  1404086400\n",
      "22      A36ANEVX17XF9S  B000GIOPK2  5.0  1191456000\n",
      "23      A3T0DNK02KT55Q  B000GIOPK2  5.0  1404518400\n",
      "24      A2D18BJF9Z3QUS  B000GIOPK2  4.0  1361664000\n",
      "25       A7ZYU4SOLTUGB  B000GIOPK2  5.0  1237420800\n",
      "26       AJKWF4W7QD4NS  B000GIOPK2  3.0  1186185600\n",
      "27      A17L10630VSW76  B000GIOPK2  4.0  1204675200\n",
      "28      A3EP4NETI2AB94  B000GIOPK2  4.0  1194912000\n",
      "29      A2GV5HOVHKYDCC  B000GIOPK2  5.0  1194134400\n",
      "...                ...         ...  ...         ...\n",
      "583902  A3I291BE0RNZCU  B00LPWPMCS  3.0  1405296000\n",
      "583903   AP421LN1DX0QD  B00LPWPMCS  5.0  1405468800\n",
      "583904  A2T8IC4R2E4GJ6  B00LPWPMCS  2.0  1405728000\n",
      "583905  A32EXAYSYJCFBK  B00LPWPMCS  5.0  1405987200\n",
      "583906  A1CNMWSZMJ3FS8  B00LPWPMCS  1.0  1405555200\n",
      "583907  A1REL11SYBDAJI  B00LPWPMCS  5.0  1405468800\n",
      "583908  A2VLGXFSM0YCRD  B00LPWPMCS  5.0  1405900800\n",
      "583909  A1YWY02UIQVU1K  B00LPWPMCS  4.0  1405641600\n",
      "583910  A10M9C7ZMU2DU1  B00LPWPMCS  4.0  1405468800\n",
      "583911   A8SQEYC4TT38X  B00LPWPMCS  5.0  1405382400\n",
      "583912  A1MNITZRYU71IO  B00LPWPMCS  4.0  1405296000\n",
      "583913  A1KB94MJQELPSM  B00LPWPMCS  1.0  1405641600\n",
      "583914  A1L41RJZKXM1T7  B00LPWPMCS  5.0  1405296000\n",
      "583915  A1QV6WSWL96DA6  B00LPWPMCS  5.0  1405987200\n",
      "583916  A1HK9952KM25SL  B00LPWPMCS  5.0  1405382400\n",
      "583917   AD6E1LY97KGC2  B00LPWPMCS  5.0  1405900800\n",
      "583918  A2E05UBMC4JAYR  B00LPWPMCS  3.0  1405900800\n",
      "583919  A1XMHK9HN5MW2H  B00LPWPMCS  3.0  1405468800\n",
      "583920   A4QQQDXW70ZDX  B00LPWPMCS  4.0  1405296000\n",
      "583921   AONFFMO9QY0G9  B00LRCUPK0  5.0  1405900800\n",
      "583922  A3U3RFL0XE4F7V  B00LSWLQQQ  4.0  1405296000\n",
      "583923   AOK8AARD069GP  B00LSWNB9Q  1.0  1405987200\n",
      "583924  A1IWX2XBFTCMSR  B00LSWNB9Q  5.0  1405641600\n",
      "583925  A37IYQC8EKLDYJ  B00LTMFX9Q  5.0  1405900800\n",
      "583926   AJE4MXRQ5W9JU  B00LTMFX9Q  5.0  1405900800\n",
      "583927   A9MBSKL8LTFN9  B00LTMHUW4  5.0  1405987200\n",
      "583928  A3U3RFL0XE4F7V  B00LTMJ29S  4.0  1405382400\n",
      "583929   AEO407GROR6JB  B00LU8ONBI  1.0  1405468800\n",
      "583930  A2YXWWVABHWIXN  B00LU8ONBI  5.0  1405728000\n",
      "583931   ANZJEQZRYUCBC  B00LXQXLGU  4.0  1405900800\n",
      "\n",
      "[583932 rows x 4 columns]\n"
     ]
    }
   ],
   "source": [
    "import pandas as pd\n",
    "import json\n",
    "import os\n",
    "\n",
    "path = 'C:\\Users/Juyeon/Downloads/data_science/term/csv/'\n",
    "\n",
    "file_l = os.listdir(path)\n",
    "\n",
    "print file_l\n",
    "\n",
    "with open (path + file_l[0]) as data_file:\n",
    "    ratings = pd.read_csv(data_file)\n",
    "    \n",
    "print ratings"
   ]
  },
  {
   "cell_type": "code",
   "execution_count": 5,
   "metadata": {
    "collapsed": false
   },
   "outputs": [
    {
     "data": {
      "text/plain": [
       "['.ipynb_checkpoints',\n",
       " 'join_userID.ipynb',\n",
       " 'parsing_userID.ipynb',\n",
       " 'userID.ipynb']"
      ]
     },
     "execution_count": 5,
     "metadata": {},
     "output_type": "execute_result"
    }
   ],
   "source": [
    "import pandas as pd\n",
    "import json\n",
    "import os\n",
    "\n",
    "path = 'C:\\Users/Juyeon/Downloads/data_science/term/csv/'\n",
    "\n",
    "file_l = os.listdir(path)\n",
    "ratings = [[[]]]\n",
    "\n",
    "\n",
    "for i in range(0, len(file_l)):\n",
    "    ratings.append([])\n",
    "    with open (path + file_l[i]) as data_file:\n",
    "        ratings[0].append()\n",
    "        "
   ]
  },
  {
   "cell_type": "code",
   "execution_count": null,
   "metadata": {
    "collapsed": true
   },
   "outputs": [],
   "source": []
  }
 ],
 "metadata": {
  "kernelspec": {
   "display_name": "Python 2",
   "language": "python",
   "name": "python2"
  },
  "language_info": {
   "codemirror_mode": {
    "name": "ipython",
    "version": 2
   },
   "file_extension": ".py",
   "mimetype": "text/x-python",
   "name": "python",
   "nbconvert_exporter": "python",
   "pygments_lexer": "ipython2",
   "version": "2.7.11"
  }
 },
 "nbformat": 4,
 "nbformat_minor": 0
}
