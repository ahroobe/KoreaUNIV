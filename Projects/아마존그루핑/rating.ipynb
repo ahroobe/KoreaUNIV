{
 "cells": [
  {
   "cell_type": "code",
   "execution_count": null,
   "metadata": {
    "collapsed": false
   },
   "outputs": [
    {
     "name": "stdout",
     "output_type": "stream",
     "text": [
      "        Unnamed: 0          userid  rating\n",
      "0                0   AGZ8SM1BGK3CK     5.0\n",
      "1                1  A2VHZ21245KBT7     4.0\n",
      "2                2   ACX8YW2D5EGP6     4.0\n",
      "3                3   A9RNMO9MUSMTJ     2.0\n",
      "4                4  A3STFVPM8NHJ7B     5.0\n",
      "5                5  A2582KMXLK2P06     5.0\n",
      "6                6  A1TZCLCW9QGGBH     4.0\n",
      "7                7  A2E2I6B878CRMA     5.0\n",
      "8                8   AD5MZA8SOVMPJ     5.0\n",
      "9                9  A3IE1M3QVUKIJN     5.0\n",
      "10              10   AZ1MUCW76BDL1     5.0\n",
      "11              11  A2XNOB1T796Y6B     5.0\n",
      "12              12  A12DO7F3TT123V     2.0\n",
      "13              13  A2UN6AL460C8J4     1.0\n",
      "14              14   AVYBQU4XX5QR4     4.0\n",
      "15              15   AVE3EF44DFS0C     5.0\n",
      "16              16  A27AWN5G5GT6RP     5.0\n",
      "17              17  A35KJPLBWHF5GJ     5.0\n",
      "18              18   ADP0IVFAH8EJF     5.0\n",
      "19              19  A2MBHFCT26IYQ6     5.0\n",
      "20              20   AONBKXBKBR8BO     5.0\n",
      "21              21  A2K72PJNBUP2TI     5.0\n",
      "22              22  A36ANEVX17XF9S     5.0\n",
      "23              23  A3T0DNK02KT55Q     5.0\n",
      "24              24  A2D18BJF9Z3QUS     4.0\n",
      "25              25   A7ZYU4SOLTUGB     5.0\n",
      "26              26   AJKWF4W7QD4NS     3.0\n",
      "27              27  A17L10630VSW76     4.0\n",
      "28              28  A3EP4NETI2AB94     4.0\n",
      "29              29  A2GV5HOVHKYDCC     5.0\n",
      "...            ...             ...     ...\n",
      "583902      583902  A3I291BE0RNZCU     3.0\n",
      "583903      583903   AP421LN1DX0QD     5.0\n",
      "583904      583904  A2T8IC4R2E4GJ6     2.0\n",
      "583905      583905  A32EXAYSYJCFBK     5.0\n",
      "583906      583906  A1CNMWSZMJ3FS8     1.0\n",
      "583907      583907  A1REL11SYBDAJI     5.0\n",
      "583908      583908  A2VLGXFSM0YCRD     5.0\n",
      "583909      583909  A1YWY02UIQVU1K     4.0\n",
      "583910      583910  A10M9C7ZMU2DU1     4.0\n",
      "583911      583911   A8SQEYC4TT38X     5.0\n",
      "583912      583912  A1MNITZRYU71IO     4.0\n",
      "583913      583913  A1KB94MJQELPSM     1.0\n",
      "583914      583914  A1L41RJZKXM1T7     5.0\n",
      "583915      583915  A1QV6WSWL96DA6     5.0\n",
      "583916      583916  A1HK9952KM25SL     5.0\n",
      "583917      583917   AD6E1LY97KGC2     5.0\n",
      "583918      583918  A2E05UBMC4JAYR     3.0\n",
      "583919      583919  A1XMHK9HN5MW2H     3.0\n",
      "583920      583920   A4QQQDXW70ZDX     4.0\n",
      "583921      583921   AONFFMO9QY0G9     5.0\n",
      "583922      583922  A3U3RFL0XE4F7V     4.0\n",
      "583923      583923   AOK8AARD069GP     1.0\n",
      "583924      583924  A1IWX2XBFTCMSR     5.0\n",
      "583925      583925  A37IYQC8EKLDYJ     5.0\n",
      "583926      583926   AJE4MXRQ5W9JU     5.0\n",
      "583927      583927   A9MBSKL8LTFN9     5.0\n",
      "583928      583928  A3U3RFL0XE4F7V     4.0\n",
      "583929      583929   AEO407GROR6JB     1.0\n",
      "583930      583930  A2YXWWVABHWIXN     5.0\n",
      "583931      583931   ANZJEQZRYUCBC     4.0\n",
      "\n",
      "[583932 rows x 3 columns]\n",
      "3222103\n",
      "4595870\n",
      "5511315\n",
      "7534384\n",
      "30041538\n",
      "33790541\n",
      "37237789\n",
      "42986708\n",
      "43822713\n",
      "51647194\n",
      "52944349\n",
      "55926674\n",
      "60180599\n",
      "63386065\n",
      "67993111\n",
      "68493286\n",
      "69736471\n",
      "70729960\n",
      "71965275\n",
      "75233969\n",
      "77160015\n",
      "79412785\n"
     ]
    }
   ],
   "source": [
    "import pandas as pd\n",
    "import json\n",
    "import os\n",
    "path = 'C:/Users/Juyeon/Downloads/data_science/term/r/'\n",
    "file_l = os.listdir(path)\n",
    "\n",
    "with open (path + file_l[0]) as data_file:\n",
    "    df = pd.read_csv(data_file)\n",
    "\n",
    "print df\n",
    "\n",
    "for i in file_l[1:]:\n",
    "    df2 = pd.DataFrame(data=None, columns = None)\n",
    "    with open (path + i) as data_file:\n",
    "        df2 = pd.read_csv(data_file)\n",
    "        frames = [df, df2]\n",
    "        df = pd.concat(frames)\n",
    "        print len(df)\n",
    "\n",
    "df = df.drop(df.columns[0], 1)\n",
    "        \n",
    "print len(df)\n",
    "print df.groupby(['userid']).mean()\n",
    "        "
   ]
  },
  {
   "cell_type": "code",
   "execution_count": 63,
   "metadata": {
    "collapsed": false
   },
   "outputs": [
    {
     "name": "stdout",
     "output_type": "stream",
     "text": [
      "   A  B\n",
      "0  1  2\n",
      "1  3  4\n"
     ]
    },
    {
     "data": {
      "text/html": [
       "<div>\n",
       "<table border=\"1\" class=\"dataframe\">\n",
       "  <thead>\n",
       "    <tr style=\"text-align: right;\">\n",
       "      <th></th>\n",
       "      <th>A</th>\n",
       "      <th>B</th>\n",
       "    </tr>\n",
       "  </thead>\n",
       "  <tbody>\n",
       "    <tr>\n",
       "      <th>0</th>\n",
       "      <td>1</td>\n",
       "      <td>2</td>\n",
       "    </tr>\n",
       "    <tr>\n",
       "      <th>1</th>\n",
       "      <td>3</td>\n",
       "      <td>4</td>\n",
       "    </tr>\n",
       "    <tr>\n",
       "      <th>0</th>\n",
       "      <td>5</td>\n",
       "      <td>6</td>\n",
       "    </tr>\n",
       "    <tr>\n",
       "      <th>1</th>\n",
       "      <td>7</td>\n",
       "      <td>8</td>\n",
       "    </tr>\n",
       "  </tbody>\n",
       "</table>\n",
       "</div>"
      ],
      "text/plain": [
       "   A  B\n",
       "0  1  2\n",
       "1  3  4\n",
       "0  5  6\n",
       "1  7  8"
      ]
     },
     "execution_count": 63,
     "metadata": {},
     "output_type": "execute_result"
    }
   ],
   "source": [
    "df.to_csv('r.csv')"
   ]
  },
  {
   "cell_type": "code",
   "execution_count": null,
   "metadata": {
    "collapsed": true
   },
   "outputs": [],
   "source": []
  }
 ],
 "metadata": {
  "kernelspec": {
   "display_name": "Python 2",
   "language": "python",
   "name": "python2"
  },
  "language_info": {
   "codemirror_mode": {
    "name": "ipython",
    "version": 2
   },
   "file_extension": ".py",
   "mimetype": "text/x-python",
   "name": "python",
   "nbconvert_exporter": "python",
   "pygments_lexer": "ipython2",
   "version": "2.7.11"
  }
 },
 "nbformat": 4,
 "nbformat_minor": 0
}
